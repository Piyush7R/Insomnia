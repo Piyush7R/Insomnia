{
 "cells": [
  {
   "cell_type": "code",
   "execution_count": 1,
   "metadata": {},
   "outputs": [
    {
     "name": "stdout",
     "output_type": "stream",
     "text": [
      "Training Data:\n",
      "    note_id                                               text\n",
      "0    10997  male patient in fifties prescribed no drugs\\n\\...\n",
      "1    11339  male patient in fifties prescribed no drugs\\n\\...\n",
      "2    11834  male patient in fifties prescribed Metoprolol,...\n",
      "3  1261107  male patient in eighties prescribed NS, Syring...\n",
      "4  1261284  male patient in seventies prescribed Metoprolo... \n",
      "\n",
      "Validation Data:\n",
      "    note_id                                               text\n",
      "0  1280230  female patient in sixties prescribed no drugs\\...\n",
      "1  1286616  male patient in fifties prescribed no drugs\\n\\...\n",
      "2  1291281  female patient in seventies prescribed no drug...\n",
      "3  1293851  female patient in seventies prescribed Nitrogl...\n",
      "4  1295870  male patient in seventies prescribed Pantopraz... \n",
      "\n"
     ]
    }
   ],
   "source": [
    "import pandas as pd\n",
    "\n",
    "# Load both training CSVs\n",
    "train_df1 = pd.read_csv(\"output/sample_training_1.csv\")\n",
    "train_df2 = pd.read_csv(\"output/sample_training_2.csv\")\n",
    "\n",
    "# Concatenate training DataFrames\n",
    "train_df = pd.concat([train_df1, train_df2], ignore_index=True)\n",
    "\n",
    "# Load validation data\n",
    "val_df = pd.read_csv(\"output/sample_validation.csv\")\n",
    "\n",
    "# Check structure\n",
    "print(\"Training Data:\\n\", train_df.head(), \"\\n\")\n",
    "print(\"Validation Data:\\n\", val_df.head(), \"\\n\")\n"
   ]
  },
  {
   "cell_type": "code",
   "execution_count": 2,
   "metadata": {},
   "outputs": [
    {
     "name": "stdout",
     "output_type": "stream",
     "text": [
      "Training Data Columns: Index(['note_id', 'text'], dtype='object')\n",
      "Validation Data Columns: Index(['note_id', 'text'], dtype='object')\n"
     ]
    }
   ],
   "source": [
    "print(\"Training Data Columns:\", train_df.columns)\n",
    "print(\"Validation Data Columns:\", val_df.columns)\n"
   ]
  },
  {
   "cell_type": "code",
   "execution_count": 3,
   "metadata": {},
   "outputs": [
    {
     "name": "stdout",
     "output_type": "stream",
     "text": [
      "   note_id                                               text Insomnia\n",
      "0    10997  male patient in fifties prescribed no drugs\\n\\...       no\n",
      "1    11339  male patient in fifties prescribed no drugs\\n\\...       no\n",
      "2    11834  male patient in fifties prescribed Metoprolol,...      yes\n",
      "3  1261107  male patient in eighties prescribed NS, Syring...      yes\n",
      "4  1261284  male patient in seventies prescribed Metoprolo...      yes\n"
     ]
    }
   ],
   "source": [
    "import pandas as pd\n",
    "import json\n",
    "\n",
    "# Load the training data (CSV)\n",
    "train_df1 = pd.read_csv(\"output/sample_training_1.csv\")\n",
    "train_df2 = pd.read_csv(\"output/sample_training_2.csv\")\n",
    "train_df = pd.concat([train_df1, train_df2], ignore_index=True)\n",
    "\n",
    "# Load both Insomnia label JSONs\n",
    "with open(\"data/training/subtask_1/training_1.json\", \"r\") as f1, open(\"data/training/subtask_1/training_2.json\", \"r\") as f2:\n",
    "    insomnia_labels_1 = json.load(f1)\n",
    "    insomnia_labels_2 = json.load(f2)\n",
    "\n",
    "# Combine the two dictionaries\n",
    "combined_labels = {**insomnia_labels_1, **insomnia_labels_2}\n",
    "\n",
    "# Convert combined labels to DataFrame\n",
    "insomnia_df = pd.DataFrame.from_dict(combined_labels, orient=\"index\").reset_index()\n",
    "insomnia_df.columns = [\"note_id\", \"Insomnia\"]\n",
    "\n",
    "# Convert `note_id` to int for merging\n",
    "insomnia_df[\"note_id\"] = insomnia_df[\"note_id\"].astype(int)\n",
    "train_df[\"note_id\"] = train_df[\"note_id\"].astype(int)\n",
    "\n",
    "# Merge training data with labels\n",
    "train_df = train_df.merge(insomnia_df, on=\"note_id\", how=\"left\")\n",
    "\n",
    "# Display the first few rows\n",
    "print(train_df.head())\n",
    "\n"
   ]
  },
  {
   "cell_type": "code",
   "execution_count": 4,
   "metadata": {},
   "outputs": [
    {
     "name": "stdout",
     "output_type": "stream",
     "text": [
      "47\n"
     ]
    }
   ],
   "source": [
    "count = 0\n",
    "for i in range(70):\n",
    "    if train_df['Insomnia'][i] == \"yes\":\n",
    "        count += 1\n",
    "print(count)"
   ]
  },
  {
   "cell_type": "code",
   "execution_count": 5,
   "metadata": {},
   "outputs": [
    {
     "name": "stdout",
     "output_type": "stream",
     "text": [
      "   note_id                                               text Insomnia\n",
      "0  1280230  female patient in sixties prescribed no drugs\\...       no\n",
      "1  1286616  male patient in fifties prescribed no drugs\\n\\...      yes\n",
      "2  1291281  female patient in seventies prescribed no drug...       no\n",
      "3  1293851  female patient in seventies prescribed Nitrogl...      yes\n",
      "4  1295870  male patient in seventies prescribed Pantopraz...      yes\n"
     ]
    }
   ],
   "source": [
    "# Load the validation data (CSV)\n",
    "val_df = pd.read_csv(\"output/sample_validation.csv\")\n",
    "\n",
    "# Load the validation labels (JSON)\n",
    "with open(\"data/validation/subtask_1/validation.json\", \"r\") as f:\n",
    "    val_labels = json.load(f)\n",
    "\n",
    "# Convert JSON to DataFrame\n",
    "val_labels_df = pd.DataFrame.from_dict(val_labels, orient=\"index\").reset_index()\n",
    "val_labels_df.columns = [\"note_id\", \"Insomnia\"]\n",
    "\n",
    "# Convert `note_id` to int for merging\n",
    "val_labels_df[\"note_id\"] = val_labels_df[\"note_id\"].astype(int)\n",
    "val_df[\"note_id\"] = val_df[\"note_id\"].astype(int)\n",
    "\n",
    "# Merge validation data with labels\n",
    "val_df = val_df.merge(val_labels_df, on=\"note_id\", how=\"left\")\n",
    "\n",
    "# Display the first few rows\n",
    "print(val_df.head())\n"
   ]
  },
  {
   "cell_type": "code",
   "execution_count": 6,
   "metadata": {},
   "outputs": [
    {
     "name": "stdout",
     "output_type": "stream",
     "text": [
      "12\n"
     ]
    }
   ],
   "source": [
    "count = 0\n",
    "for i in range(20):\n",
    "    if val_df['Insomnia'][i] == \"yes\":\n",
    "        count += 1\n",
    "print(count)"
   ]
  },
  {
   "cell_type": "code",
   "execution_count": 7,
   "metadata": {},
   "outputs": [
    {
     "name": "stderr",
     "output_type": "stream",
     "text": [
      "[nltk_data] Downloading package punkt to C:\\Users\\Anant\n",
      "[nltk_data]     Kumar\\AppData\\Roaming\\nltk_data...\n",
      "[nltk_data]   Package punkt is already up-to-date!\n",
      "[nltk_data] Downloading package stopwords to C:\\Users\\Anant\n",
      "[nltk_data]     Kumar\\AppData\\Roaming\\nltk_data...\n",
      "[nltk_data]   Package stopwords is already up-to-date!\n",
      "[nltk_data] Downloading package wordnet to C:\\Users\\Anant\n",
      "[nltk_data]     Kumar\\AppData\\Roaming\\nltk_data...\n",
      "[nltk_data]   Package wordnet is already up-to-date!\n",
      "[nltk_data] Downloading package punkt_tab to C:\\Users\\Anant\n",
      "[nltk_data]     Kumar\\AppData\\Roaming\\nltk_data...\n",
      "[nltk_data]   Package punkt_tab is already up-to-date!\n"
     ]
    },
    {
     "name": "stdout",
     "output_type": "stream",
     "text": [
      "                                                text  \\\n",
      "0  male patient in fifties prescribed no drugs\\n\\...   \n",
      "1  male patient in fifties prescribed no drugs\\n\\...   \n",
      "2  male patient in fifties prescribed Metoprolol,...   \n",
      "3  male patient in eighties prescribed NS, Syring...   \n",
      "4  male patient in seventies prescribed Metoprolo...   \n",
      "\n",
      "                                          clean_text  \n",
      "0  male patient fifty prescribed drug admission d...  \n",
      "1  male patient fifty prescribed drug admission d...  \n",
      "2  male patient fifty prescribed metoprolol insul...  \n",
      "3  male patient eighty prescribed n syringe ketor...  \n",
      "4  male patient seventy prescribed metoprolol lev...  \n"
     ]
    }
   ],
   "source": [
    "import re\n",
    "import nltk\n",
    "from nltk.corpus import stopwords\n",
    "from nltk.tokenize import word_tokenize\n",
    "from nltk.stem import WordNetLemmatizer\n",
    "\n",
    "# Download NLTK resources if not already downloaded\n",
    "nltk.download('punkt')\n",
    "nltk.download('stopwords')\n",
    "nltk.download('wordnet')\n",
    "nltk.download('punkt_tab')\n",
    "\n",
    "# Initialize lemmatizer\n",
    "lemmatizer = WordNetLemmatizer()\n",
    "\n",
    "def preprocess_text(text):\n",
    "    # Lowercasing\n",
    "    text = text.lower()\n",
    "    \n",
    "    # Remove special characters and numbers\n",
    "    text = re.sub(r'[^a-z\\s]', '', text)\n",
    "    \n",
    "    # Tokenization\n",
    "    words = word_tokenize(text)\n",
    "    \n",
    "    # Remove stopwords\n",
    "    words = [word for word in words if word not in stopwords.words('english')]\n",
    "    \n",
    "    # Lemmatization\n",
    "    words = [lemmatizer.lemmatize(word) for word in words]\n",
    "    \n",
    "    # Join back into a string\n",
    "    return \" \".join(words)\n",
    "\n",
    "# Apply preprocessing to both training and validation data\n",
    "train_df[\"clean_text\"] = train_df[\"text\"].apply(preprocess_text)\n",
    "val_df[\"clean_text\"] = val_df[\"text\"].apply(preprocess_text)\n",
    "\n",
    "# Display sample processed text\n",
    "print(train_df[[\"text\", \"clean_text\"]].head())\n"
   ]
  },
  {
   "cell_type": "code",
   "execution_count": 8,
   "metadata": {},
   "outputs": [
    {
     "name": "stdout",
     "output_type": "stream",
     "text": [
      "Training Data Shape: (70, 2104)\n",
      "Validation Data Shape: (20, 2104)\n"
     ]
    }
   ],
   "source": [
    "from sklearn.feature_extraction.text import TfidfVectorizer\n",
    "\n",
    "# Initialize TF-IDF Vectorizer\n",
    "vectorizer = TfidfVectorizer(\n",
    "    max_features=8000,\n",
    "    ngram_range=(1, 2),         # Unigrams and bigrams\n",
    "    min_df=3,                   # Remove rare words\n",
    "    max_df=0.8                  # Remove overly frequent words\n",
    ")\n",
    "\n",
    "# Fit on training data and transform both train & validation data\n",
    "X_train = vectorizer.fit_transform(train_df[\"clean_text\"])\n",
    "X_val = vectorizer.transform(val_df[\"clean_text\"])\n",
    "\n",
    "# Convert labels to binary (0 for \"no\", 1 for \"yes\")\n",
    "y_train = train_df[\"Insomnia\"].map({\"no\": 0, \"yes\": 1})\n",
    "y_val = val_df[\"Insomnia\"].map({\"no\": 0, \"yes\": 1})\n",
    "\n",
    "# Print shape of transformed data\n",
    "print(f\"Training Data Shape: {X_train.shape}\")\n",
    "print(f\"Validation Data Shape: {X_val.shape}\")\n"
   ]
  },
  {
   "cell_type": "markdown",
   "metadata": {},
   "source": [
    "## Random Forest Classifier"
   ]
  },
  {
   "cell_type": "code",
   "execution_count": 11,
   "metadata": {},
   "outputs": [
    {
     "name": "stdout",
     "output_type": "stream",
     "text": [
      "Validation Accuracy: 0.7\n",
      "Classification Report:\n",
      "               precision    recall  f1-score   support\n",
      "\n",
      "           0       0.67      0.50      0.57         8\n",
      "           1       0.71      0.83      0.77        12\n",
      "\n",
      "    accuracy                           0.70        20\n",
      "   macro avg       0.69      0.67      0.67        20\n",
      "weighted avg       0.70      0.70      0.69        20\n",
      "\n",
      "Confusion Matrix:\n",
      " [[ 4  4]\n",
      " [ 2 10]]\n",
      "\n",
      "F1-score (yes as positive class): 0.7692307692307693\n",
      "Mean Squared Error (MSE): 0.3\n",
      "Classification Error Rate: 0.3\n",
      "\n",
      "--- Error Analysis ---\n",
      "Total Misclassified Samples: 6\n",
      "Prediction Distribution: {0: 6, 1: 14}\n",
      "False Positives (predicted yes, actually no): 4\n",
      "False Negatives (predicted no, actually yes): 2\n"
     ]
    }
   ],
   "source": [
    "from sklearn.ensemble import RandomForestClassifier\n",
    "from sklearn.metrics import accuracy_score, classification_report, confusion_matrix, f1_score, mean_squared_error\n",
    "import pandas as pd\n",
    "import numpy as np\n",
    "\n",
    "# Train model with class weighting\n",
    "model = RandomForestClassifier(n_estimators=100, class_weight=\"balanced\", random_state=42)\n",
    "model.fit(X_train, y_train)\n",
    "\n",
    "# Predict on validation data\n",
    "y_pred = model.predict(X_val)\n",
    "\n",
    "# Evaluation metrics\n",
    "print(\"Validation Accuracy:\", accuracy_score(y_val, y_pred))\n",
    "print(\"Classification Report:\\n\", classification_report(y_val, y_pred))\n",
    "print(\"Confusion Matrix:\\n\", confusion_matrix(y_val, y_pred))\n",
    "\n",
    "# Official metric: F1 score with 1 as positive class\n",
    "f1_yes = f1_score(y_val, y_pred, pos_label=1)\n",
    "print(\"\\nF1-score (yes as positive class):\", f1_yes)\n",
    "\n",
    "# Mean Squared Error (treating labels as numeric)\n",
    "mse = mean_squared_error(y_val, y_pred)\n",
    "print(\"Mean Squared Error (MSE):\", mse)\n",
    "\n",
    "# Classification error rate (proportion of incorrect predictions)\n",
    "error_rate = np.mean(y_val != y_pred)\n",
    "print(\"Classification Error Rate:\", error_rate)\n",
    "\n",
    "# Error analysis\n",
    "print(\"\\n--- Error Analysis ---\")\n",
    "\n",
    "# 1. Indices of misclassified samples\n",
    "misclassified_indices = np.where(y_val != y_pred)[0]\n",
    "print(f\"Total Misclassified Samples: {len(misclassified_indices)}\")\n",
    "\n",
    "# 2. Distribution of predictions\n",
    "unique, counts = np.unique(y_pred, return_counts=True)\n",
    "prediction_distribution = dict(zip(unique, counts))\n",
    "print(\"Prediction Distribution:\", prediction_distribution)\n",
    "\n",
    "# 3. False positives and false negatives\n",
    "false_positives = np.where((y_val == 0) & (y_pred == 1))[0]\n",
    "false_negatives = np.where((y_val == 1) & (y_pred == 0))[0]\n",
    "\n",
    "print(f\"False Positives (predicted yes, actually no): {len(false_positives)}\")\n",
    "print(f\"False Negatives (predicted no, actually yes): {len(false_negatives)}\")\n",
    "\n",
    "# 4. Display sample misclassified entries (if X_val is a DataFrame)\n",
    "if isinstance(X_val, pd.DataFrame):\n",
    "    print(\"\\nSample False Positives:\")\n",
    "    display(X_val.iloc[false_positives[:5]])\n",
    "    \n",
    "    print(\"\\nSample False Negatives:\")\n",
    "    display(X_val.iloc[false_negatives[:5]])\n"
   ]
  },
  {
   "cell_type": "markdown",
   "metadata": {},
   "source": [
    "## SVC"
   ]
  },
  {
   "cell_type": "code",
   "execution_count": 13,
   "metadata": {},
   "outputs": [
    {
     "name": "stdout",
     "output_type": "stream",
     "text": [
      "Validation Accuracy: 0.65\n",
      "Classification Report:\n",
      "               precision    recall  f1-score   support\n",
      "\n",
      "           0       0.57      0.50      0.53         8\n",
      "           1       0.69      0.75      0.72        12\n",
      "\n",
      "    accuracy                           0.65        20\n",
      "   macro avg       0.63      0.62      0.63        20\n",
      "weighted avg       0.64      0.65      0.65        20\n",
      "\n",
      "Confusion Matrix:\n",
      " [[4 4]\n",
      " [3 9]]\n",
      "\n",
      "F1-score (yes as positive class): 0.72\n",
      "Mean Squared Error (MSE): 0.35\n",
      "Classification Error Rate: 0.35\n"
     ]
    }
   ],
   "source": [
    "from sklearn.svm import SVC\n",
    "from sklearn.metrics import accuracy_score, classification_report, confusion_matrix, mean_squared_error\n",
    "\n",
    "# Train SVM model\n",
    "svm_model = SVC(kernel='rbf', class_weight='balanced', random_state=42)\n",
    "svm_model.fit(X_train, y_train)\n",
    "\n",
    "# Predict on validation set\n",
    "y_pred_svm = svm_model.predict(X_val)\n",
    "\n",
    "# Evaluation metrics\n",
    "print(\"Validation Accuracy:\", accuracy_score(y_val, y_pred_svm))\n",
    "print(\"Classification Report:\\n\", classification_report(y_val, y_pred_svm))\n",
    "print(\"Confusion Matrix:\\n\", confusion_matrix(y_val, y_pred_svm))\n",
    "\n",
    "# Official metric: F1 score with 1 as positive class  (as 1 for \"yes\")\n",
    "f1_yes = f1_score(y_val, y_pred_svm, pos_label=1)\n",
    "print(\"\\nF1-score (yes as positive class):\", f1_yes)\n",
    "\n",
    "# Mean Squared Error (treating labels as numeric)\n",
    "mse = mean_squared_error(y_val, y_pred_svm)\n",
    "print(\"Mean Squared Error (MSE):\", mse)\n",
    "\n",
    "# Classification error rate (proportion of incorrect predictions)\n",
    "error_rate = np.mean(y_val != y_pred_svm)\n",
    "print(\"Classification Error Rate:\", error_rate)\n"
   ]
  },
  {
   "cell_type": "markdown",
   "metadata": {},
   "source": [
    "## XGBoost"
   ]
  },
  {
   "cell_type": "code",
   "execution_count": 14,
   "metadata": {},
   "outputs": [
    {
     "name": "stdout",
     "output_type": "stream",
     "text": [
      "Validation Accuracy: 0.8\n",
      "Classification Report:\n",
      "               precision    recall  f1-score   support\n",
      "\n",
      "           0       0.83      0.62      0.71         8\n",
      "           1       0.79      0.92      0.85        12\n",
      "\n",
      "    accuracy                           0.80        20\n",
      "   macro avg       0.81      0.77      0.78        20\n",
      "weighted avg       0.80      0.80      0.79        20\n",
      "\n",
      "Confusion Matrix:\n",
      " [[ 5  3]\n",
      " [ 1 11]]\n",
      "\n",
      "F1-score (yes as positive class): 0.8461538461538461\n",
      "Mean Squared Error (MSE): 0.2\n",
      "Classification Error Rate: 0.2\n"
     ]
    }
   ],
   "source": [
    "import xgboost as xgb\n",
    "from sklearn.metrics import accuracy_score, classification_report, confusion_matrix, mean_squared_error\n",
    "\n",
    "# Set scale_pos_weight to balance classes (Ratio of negative to positive class)\n",
    "scale_pos_weight = len(y_train) / sum(y_train == 1)\n",
    "\n",
    "# Train XGBoost model\n",
    "xgb_model = xgb.XGBClassifier(n_estimators=150, max_depth=10, scale_pos_weight=scale_pos_weight, random_state=42, learning_rate=0.05)\n",
    "xgb_model.fit(X_train, y_train)\n",
    "\n",
    "# Predict on validation set\n",
    "y_pred_xgb = xgb_model.predict(X_val)\n",
    "\n",
    "# Evaluation metrics\n",
    "print(\"Validation Accuracy:\", accuracy_score(y_val, y_pred_xgb))\n",
    "print(\"Classification Report:\\n\", classification_report(y_val, y_pred_xgb))\n",
    "print(\"Confusion Matrix:\\n\", confusion_matrix(y_val, y_pred_xgb))\n",
    "\n",
    "# Official metric: F1 score with 1 as positive class  (as 1 for \"yes\")\n",
    "f1_yes = f1_score(y_val, y_pred_xgb, pos_label=1)\n",
    "print(\"\\nF1-score (yes as positive class):\", f1_yes)\n",
    "\n",
    "# Mean Squared Error (treating labels as numeric)\n",
    "mse = mean_squared_error(y_val, y_pred_xgb)\n",
    "print(\"Mean Squared Error (MSE):\", mse)\n",
    "\n",
    "# Classification error rate (proportion of incorrect predictions)\n",
    "error_rate = np.mean(y_val != y_pred_xgb)\n",
    "print(\"Classification Error Rate:\", error_rate)\n"
   ]
  },
  {
   "cell_type": "markdown",
   "metadata": {},
   "source": [
    "## AdaBoostClassifier"
   ]
  },
  {
   "cell_type": "code",
   "execution_count": 15,
   "metadata": {},
   "outputs": [
    {
     "name": "stdout",
     "output_type": "stream",
     "text": [
      "Validation Accuracy: 0.8\n",
      "Classification Report:\n",
      "               precision    recall  f1-score   support\n",
      "\n",
      "           0       1.00      0.50      0.67         8\n",
      "           1       0.75      1.00      0.86        12\n",
      "\n",
      "    accuracy                           0.80        20\n",
      "   macro avg       0.88      0.75      0.76        20\n",
      "weighted avg       0.85      0.80      0.78        20\n",
      "\n",
      "Confusion Matrix:\n",
      " [[ 4  4]\n",
      " [ 0 12]]\n",
      "\n",
      "F1-score (yes as positive class): 0.8571428571428571\n",
      "Mean Squared Error (MSE): 0.2\n",
      "Classification Error Rate: 0.2\n"
     ]
    },
    {
     "name": "stderr",
     "output_type": "stream",
     "text": [
      "c:\\Anaconda\\Lib\\site-packages\\sklearn\\ensemble\\_weight_boosting.py:519: FutureWarning: The SAMME.R algorithm (the default) is deprecated and will be removed in 1.6. Use the SAMME algorithm to circumvent this warning.\n",
      "  warnings.warn(\n"
     ]
    }
   ],
   "source": [
    "from sklearn.ensemble import AdaBoostClassifier\n",
    "from sklearn.tree import DecisionTreeClassifier\n",
    "from sklearn.metrics import accuracy_score, classification_report, confusion_matrix, f1_score, mean_squared_error\n",
    "\n",
    "# Train AdaBoost model\n",
    "ada_model = AdaBoostClassifier(n_estimators=1, random_state=42, learning_rate=0.01)\n",
    "ada_model.fit(X_train, y_train)\n",
    "\n",
    "# Predict on validation set\n",
    "y_pred_ada = ada_model.predict(X_val)\n",
    "\n",
    "# Evaluation metrics\n",
    "print(\"Validation Accuracy:\", accuracy_score(y_val, y_pred_ada))\n",
    "print(\"Classification Report:\\n\", classification_report(y_val, y_pred_ada))\n",
    "print(\"Confusion Matrix:\\n\", confusion_matrix(y_val, y_pred_ada))\n",
    "\n",
    "# Official metric: F1 score with 1 as positive class  (as 1 for \"yes\")\n",
    "f1_yes = f1_score(y_val, y_pred_ada, pos_label=1)\n",
    "print(\"\\nF1-score (yes as positive class):\", f1_yes)\n",
    "\n",
    "# Mean Squared Error (treating labels as numeric)\n",
    "mse = mean_squared_error(y_val, y_pred_ada)\n",
    "print(\"Mean Squared Error (MSE):\", mse)\n",
    "\n",
    "# Classification error rate (proportion of incorrect predictions)\n",
    "error_rate = np.mean(y_val != y_pred_ada)\n",
    "print(\"Classification Error Rate:\", error_rate)\n"
   ]
  },
  {
   "cell_type": "markdown",
   "metadata": {},
   "source": [
    "## KNN "
   ]
  },
  {
   "cell_type": "code",
   "execution_count": 17,
   "metadata": {},
   "outputs": [
    {
     "data": {
      "image/png": "[encoded data removed]",
      "text/plain": [
       "<Figure size 1000x500 with 1 Axes>"
      ]
     },
     "metadata": {},
     "output_type": "display_data"
    }
   ],
   "source": [
    "from sklearn.neighbors import KNeighborsClassifier\n",
    "from sklearn.metrics import accuracy_score, classification_report, confusion_matrix, mean_squared_error\n",
    "import matplotlib.pyplot as plt\n",
    "import numpy as np\n",
    "\n",
    "# Convert sparse matrices to dense arrays\n",
    "X_train_dense = X_train.toarray() if hasattr(X_train, \"toarray\") else X_train\n",
    "X_val_dense = X_val.toarray() if hasattr(X_val, \"toarray\") else X_val\n",
    "\n",
    "ks = list(range(1, min(46, len(X_train_dense) + 1)))  # Ensure k ≤ 45\n",
    "k_values = []\n",
    "\n",
    "for k in ks:\n",
    "    knn = KNeighborsClassifier(n_neighbors=k)\n",
    "    knn.fit(X_train_dense, y_train)  # Fit using dense array\n",
    "    k_values.append(knn.score(X_val_dense, y_val))  # Validation accuracy\n",
    "\n",
    "# Plotting the graph\n",
    "plt.figure(figsize=(10, 5))\n",
    "plt.plot(ks, k_values, marker='o', linestyle='dashed', color='b')\n",
    "plt.xlabel(\"Values of K\")\n",
    "plt.ylabel(\"Validation Accuracy\")\n",
    "plt.title(\"KNN Hyperparameter Tuning (K vs Accuracy)\")\n",
    "plt.grid()\n",
    "plt.show()\n"
   ]
  },
  {
   "cell_type": "code",
   "execution_count": 18,
   "metadata": {},
   "outputs": [
    {
     "name": "stdout",
     "output_type": "stream",
     "text": [
      "Validation Accuracy: 0.8\n",
      "Classification Report:\n",
      "               precision    recall  f1-score   support\n",
      "\n",
      "           0       1.00      0.50      0.67         8\n",
      "           1       0.75      1.00      0.86        12\n",
      "\n",
      "    accuracy                           0.80        20\n",
      "   macro avg       0.88      0.75      0.76        20\n",
      "weighted avg       0.85      0.80      0.78        20\n",
      "\n",
      "Confusion Matrix:\n",
      " [[ 4  4]\n",
      " [ 0 12]]\n",
      "\n",
      "F1-score (yes as positive class): 0.8571428571428571\n",
      "Mean Squared Error (MSE): 0.2\n",
      "Classification Error Rate: 0.2\n"
     ]
    }
   ],
   "source": [
    "# Train KNN model\n",
    "knn_model = KNeighborsClassifier(n_neighbors=37) \n",
    "knn_model.fit(X_train, y_train)\n",
    "\n",
    "# Predict on validation set\n",
    "y_pred_knn = knn_model.predict(X_val)\n",
    "\n",
    "# Evaluation metrics\n",
    "print(\"Validation Accuracy:\", accuracy_score(y_val, y_pred_knn))\n",
    "print(\"Classification Report:\\n\", classification_report(y_val, y_pred_knn))\n",
    "print(\"Confusion Matrix:\\n\", confusion_matrix(y_val, y_pred_knn))\n",
    "\n",
    "# Official metric: F1 score with 1 as positive class  (as 1 for \"yes\")\n",
    "f1_yes = f1_score(y_val, y_pred_knn, pos_label=1)\n",
    "print(\"\\nF1-score (yes as positive class):\", f1_yes)\n",
    "\n",
    "# Mean Squared Error (treating labels as numeric)\n",
    "mse = mean_squared_error(y_val, y_pred_knn)\n",
    "print(\"Mean Squared Error (MSE):\", mse)\n",
    "\n",
    "# Classification error rate (proportion of incorrect predictions)\n",
    "error_rate = np.mean(y_val != y_pred_knn)\n",
    "print(\"Classification Error Rate:\", error_rate)\n",
    "\n"
   ]
  },
  {
   "cell_type": "markdown",
   "metadata": {},
   "source": [
    "## Testing "
   ]
  },
  {
   "cell_type": "code",
   "execution_count": 10,
   "metadata": {},
   "outputs": [
    {
     "name": "stdout",
     "output_type": "stream",
     "text": [
      "✅ Test predictions saved in nested format to ./output/subtask1_test_predictions.json\n"
     ]
    }
   ],
   "source": [
    "import pandas as pd\n",
    "import json\n",
    "\n",
    "# ===== Test Data Evaluation for Subtask 1 =====\n",
    "\n",
    "# Load test data\n",
    "test_df = pd.read_csv('./output/test.csv')  # Adjust path if needed\n",
    "\n",
    "# Preprocess test data using the same vectorizer used during training\n",
    "X_test_raw = test_df['text']\n",
    "X_test_vec = vectorizer.transform(X_test_raw)  # Use your fitted vectorizer\n",
    "\n",
    "# Predict using trained model\n",
    "test_preds = ada_model.predict(X_test_vec)\n",
    "\n",
    "# Map numeric predictions to 'yes'/'no'\n",
    "label_map = {1: 'yes', 0: 'no'}\n",
    "test_df['insomnia_label'] = [label_map[pred] for pred in test_preds]\n",
    "\n",
    "# Convert to nested dictionary format\n",
    "formatted_output = {\n",
    "    str(row['note_id']): {\"Insomnia\": row['insomnia_label']}\n",
    "    for _, row in test_df[['note_id', 'insomnia_label']].iterrows()\n",
    "}\n",
    "\n",
    "# Save to JSON\n",
    "with open('./output/subtask_1.json', 'w') as f:\n",
    "    json.dump(formatted_output, f, indent=4)\n",
    "\n",
    "print(\"✅ Test predictions saved in nested format to ./output/subtask1_test_predictions.json\")\n"
   ]
  },
  {
   "cell_type": "code",
   "execution_count": null,
   "metadata": {},
   "outputs": [],
   "source": []
  }
 ],
 "metadata": {
  "kernelspec": {
   "display_name": "base",
   "language": "python",
   "name": "python3"
  },
  "language_info": {
   "codemirror_mode": {
    "name": "ipython",
    "version": 3
   },
   "file_extension": ".py",
   "mimetype": "text/x-python",
   "name": "python",
   "nbconvert_exporter": "python",
   "pygments_lexer": "ipython3",
   "version": "3.12.4"
  }
 },
 "nbformat": 4,
 "nbformat_minor": 2
}
